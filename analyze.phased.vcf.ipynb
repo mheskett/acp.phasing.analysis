{
 "cells": [
  {
   "cell_type": "code",
   "execution_count": 1,
   "metadata": {
    "collapsed": true
   },
   "outputs": [],
   "source": [
    "import numpy as np\n",
    "import pandas as pd\n",
    "import matplotlib.pyplot as plt"
   ]
  },
  {
   "cell_type": "code",
   "execution_count": null,
   "metadata": {
    "collapsed": true
   },
   "outputs": [],
   "source": [
    "pd.read_csv(\"/Users/heskett/acp.phasing.analysis/pat1_imputed_phased.noheader.txt\",\n",
    "            sep=\"\\t\",header=None,index_col=None,\n",
    "\t\t\t\t\t\tnames=[\"chrom\",\"pos\",\"rsid\",\"ref\",\"alt\",\"qual\",\"filter\",\"info\",\"format\",\n",
    "                              \"son\",\"dad\",\"mom\"]\n",
    "\t\t\t\t\t\tdtype = {\"chrom\":str,\"pos\":int,\"rsid\":str,\"ref\":str,\"alt\":str,\"qual\":str,\"filter\":str,\n",
    "                                 \"info\":str,\"format\":str,\n",
    "                              \"son\":str,\"dad\":str,\"mom\":str)"
   ]
  }
 ],
 "metadata": {
  "kernelspec": {
   "display_name": "Python 3",
   "language": "python",
   "name": "python3"
  },
  "language_info": {
   "codemirror_mode": {
    "name": "ipython",
    "version": 3
   },
   "file_extension": ".py",
   "mimetype": "text/x-python",
   "name": "python",
   "nbconvert_exporter": "python",
   "pygments_lexer": "ipython3",
   "version": "3.6.0"
  }
 },
 "nbformat": 4,
 "nbformat_minor": 2
}
