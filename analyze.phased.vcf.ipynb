{
 "cells": [
  {
   "cell_type": "code",
   "execution_count": 1,
   "metadata": {
    "collapsed": true
   },
   "outputs": [],
   "source": [
    "import numpy as np\n",
    "import pandas as pd\n",
    "import matplotlib.pyplot as plt\n",
    "import seaborn as sns\n",
    "%matplotlib inline"
   ]
  },
  {
   "cell_type": "code",
   "execution_count": 2,
   "metadata": {
    "collapsed": false
   },
   "outputs": [],
   "source": [
    "## Upload the file with basic headers.\n",
    "df = pd.read_csv(\"/Users/heskett/acp.phasing.analysis/pat1_imputed_phased.chr1.txt\",sep=\"\\t\",header=None,index_col=None,\n",
    "            names=[\"chrom\",\"pos\",\"rsid\",\"ref\",\"alt\",\"qual\",\"filter\",\"info\",\"format\",\"son\",\"dad\",\"mom\"],\n",
    "            dtype = {\"chrom\":str,\"pos\":int,\"rsid\":str,\"ref\":str,\"alt\":str,\"qual\":str,\"filter\":str,\n",
    "                                 \"info\":str,\"format\":str,\"son\":str,\"dad\":str,\"mom\":str})"
   ]
  },
  {
   "cell_type": "code",
   "execution_count": 3,
   "metadata": {
    "collapsed": false
   },
   "outputs": [
    {
     "name": "stderr",
     "output_type": "stream",
     "text": [
      "/Users/heskett/packages/anaconda/lib/python3.6/site-packages/ipykernel/__main__.py:3: SettingWithCopyWarning: \n",
      "A value is trying to be set on a copy of a slice from a DataFrame.\n",
      "Try using .loc[row_indexer,col_indexer] = value instead\n",
      "\n",
      "See the caveats in the documentation: http://pandas.pydata.org/pandas-docs/stable/indexing.html#indexing-view-versus-copy\n",
      "  app.launch_new_instance()\n"
     ]
    }
   ],
   "source": [
    "## get df of all phased variants in son\n",
    "df_son_phased = df[df[\"son\"].str.contains(\"|\",regex=False)]\n",
    "df_son_phased[\"dist_to_next\"] = df_son_phased[\"pos\"].diff(periods=-1) *-1"
   ]
  },
  {
   "cell_type": "code",
   "execution_count": 33,
   "metadata": {
    "collapsed": false
   },
   "outputs": [
    {
     "data": {
      "text/plain": [
       "count    1.108200e+05\n",
       "mean     2.246269e+03\n",
       "std      5.507532e+04\n",
       "min      1.000000e+00\n",
       "50%      5.010000e+02\n",
       "80%      1.915000e+03\n",
       "99%      2.959229e+04\n",
       "max      1.800029e+07\n",
       "Name: dist_to_next, dtype: float64"
      ]
     },
     "execution_count": 33,
     "metadata": {},
     "output_type": "execute_result"
    }
   ],
   "source": [
    "df_spdf_son_phased[\"dist_to_next\"].describe(percentiles=[.8,0.99])"
   ]
  },
  {
   "cell_type": "code",
   "execution_count": 42,
   "metadata": {
    "collapsed": false
   },
   "outputs": [
    {
     "data": {
      "text/plain": [
       "(array([16398.,  8914.,  7038.,  5834.,  4993.,  4106.,  3835.,  3269.,\n",
       "         2948.,  2683.,  2456.,  2151.,  2099.,  2010.,  1787.,  1715.,\n",
       "         1590.,  1533.,  1337.,  1297.,  1192.,  1111.,  1048.,  1039.,\n",
       "          915.,   893.,   855.,   801.,   797.,   763.,   634.,   665.,\n",
       "          623.,   592.,   604.,   542.,   527.,   486.,   474.,   437.,\n",
       "          413.,   411.,   409.,   385.,   380.,   351.,   359.,   315.,\n",
       "          310.,   279.,   271.,   295.,   281.,   276.,   260.,   227.,\n",
       "          259.,   234.,   225.,   230.,   226.,   213.,   203.,   196.,\n",
       "          174.,   170.,   161.,   152.,   178.,   130.,   130.,   146.,\n",
       "          148.,   141.,   129.,   117.,   129.,   125.,    93.,   121.,\n",
       "          118.,   117.,   100.,   110.,   119.,    93.,    97.,    96.,\n",
       "           95.,    77.,    98.,    97.,    84.,    85.,    82.,    92.,\n",
       "           96.,    65.,    73.,    77.]),\n",
       " array([1.00000e+00, 6.09800e+01, 1.20960e+02, 1.80940e+02, 2.40920e+02,\n",
       "        3.00900e+02, 3.60880e+02, 4.20860e+02, 4.80840e+02, 5.40820e+02,\n",
       "        6.00800e+02, 6.60780e+02, 7.20760e+02, 7.80740e+02, 8.40720e+02,\n",
       "        9.00700e+02, 9.60680e+02, 1.02066e+03, 1.08064e+03, 1.14062e+03,\n",
       "        1.20060e+03, 1.26058e+03, 1.32056e+03, 1.38054e+03, 1.44052e+03,\n",
       "        1.50050e+03, 1.56048e+03, 1.62046e+03, 1.68044e+03, 1.74042e+03,\n",
       "        1.80040e+03, 1.86038e+03, 1.92036e+03, 1.98034e+03, 2.04032e+03,\n",
       "        2.10030e+03, 2.16028e+03, 2.22026e+03, 2.28024e+03, 2.34022e+03,\n",
       "        2.40020e+03, 2.46018e+03, 2.52016e+03, 2.58014e+03, 2.64012e+03,\n",
       "        2.70010e+03, 2.76008e+03, 2.82006e+03, 2.88004e+03, 2.94002e+03,\n",
       "        3.00000e+03, 3.05998e+03, 3.11996e+03, 3.17994e+03, 3.23992e+03,\n",
       "        3.29990e+03, 3.35988e+03, 3.41986e+03, 3.47984e+03, 3.53982e+03,\n",
       "        3.59980e+03, 3.65978e+03, 3.71976e+03, 3.77974e+03, 3.83972e+03,\n",
       "        3.89970e+03, 3.95968e+03, 4.01966e+03, 4.07964e+03, 4.13962e+03,\n",
       "        4.19960e+03, 4.25958e+03, 4.31956e+03, 4.37954e+03, 4.43952e+03,\n",
       "        4.49950e+03, 4.55948e+03, 4.61946e+03, 4.67944e+03, 4.73942e+03,\n",
       "        4.79940e+03, 4.85938e+03, 4.91936e+03, 4.97934e+03, 5.03932e+03,\n",
       "        5.09930e+03, 5.15928e+03, 5.21926e+03, 5.27924e+03, 5.33922e+03,\n",
       "        5.39920e+03, 5.45918e+03, 5.51916e+03, 5.57914e+03, 5.63912e+03,\n",
       "        5.69910e+03, 5.75908e+03, 5.81906e+03, 5.87904e+03, 5.93902e+03,\n",
       "        5.99900e+03]),\n",
       " <a list of 100 Patch objects>)"
      ]
     },
     "execution_count": 42,
     "metadata": {},
     "output_type": "execute_result"
    },
    {
     "data": {
      "image/png": "[encoded data removed]",
      "text/plain": [
       "<Figure size 720x288 with 1 Axes>"
      ]
     },
     "metadata": {},
     "output_type": "display_data"
    }
   ],
   "source": [
    "fig, ax = plt.subplots(figsize=(10,4))\n",
    "plt.hist(df_son_phased[df_son_phased[\"dist_to_next\"]<=6000][\"dist_to_next\"],bins=100)\n"
   ]
  }
 ],
 "metadata": {
  "kernelspec": {
   "display_name": "Python 3",
   "language": "python",
   "name": "python3"
  },
  "language_info": {
   "codemirror_mode": {
    "name": "ipython",
    "version": 3
   },
   "file_extension": ".py",
   "mimetype": "text/x-python",
   "name": "python",
   "nbconvert_exporter": "python",
   "pygments_lexer": "ipython3",
   "version": "3.6.0"
  }
 },
 "nbformat": 4,
 "nbformat_minor": 2
}
